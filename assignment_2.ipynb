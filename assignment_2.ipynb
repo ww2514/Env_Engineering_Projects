{
 "cells": [
  {
   "cell_type": "markdown",
   "metadata": {},
   "source": [
    "# Assignment 2: Python Functions and Classes\n",
    "\n",
    "\n",
    "## Part I: Exploring the Python Standard Library\n",
    "\n",
    "Skim the [documentation for the datetime module](https://docs.python.org/3/library/datetime.html)\n",
    "\n",
    "### 1. Import the `datetime` module"
   ]
  },
  {
   "cell_type": "code",
   "execution_count": 1,
   "metadata": {},
   "outputs": [],
   "source": [
    "import datetime"
   ]
  },
  {
   "cell_type": "markdown",
   "metadata": {},
   "source": [
    "### 2. Create a `datetime` object for the day you were born\n",
    "\n",
    "and print its representation in your notebook"
   ]
  },
  {
   "cell_type": "code",
   "execution_count": 2,
   "metadata": {},
   "outputs": [
    {
     "name": "stdout",
     "output_type": "stream",
     "text": [
      "1997-05-12 00:00:00\n"
     ]
    }
   ],
   "source": [
    "d = datetime.datetime(1997,5,12)\n",
    "print(d)"
   ]
  },
  {
   "cell_type": "markdown",
   "metadata": {},
   "source": [
    "### 3. Create a `timedelta` object representing 100 days, 10 hours, and 13 minutes"
   ]
  },
  {
   "cell_type": "code",
   "execution_count": 3,
   "metadata": {},
   "outputs": [
    {
     "name": "stdout",
     "output_type": "stream",
     "text": [
      "100 days, 10:13:00\n"
     ]
    }
   ],
   "source": [
    "from datetime import timedelta\n",
    "rep = datetime.timedelta(days=100,hours=10,minutes=13)\n",
    "print(rep)"
   ]
  },
  {
   "cell_type": "markdown",
   "metadata": {},
   "source": [
    "### 4. Verify that these two objects do not have the same type\n",
    "\n",
    "Use an `assert` statement"
   ]
  },
  {
   "cell_type": "code",
   "execution_count": 4,
   "metadata": {},
   "outputs": [],
   "source": [
    "assert d != rep"
   ]
  },
  {
   "cell_type": "markdown",
   "metadata": {},
   "source": [
    "### 5. Add the timedelta to the datetime\n",
    "\n",
    "and assign it to a new variable"
   ]
  },
  {
   "cell_type": "code",
   "execution_count": 5,
   "metadata": {},
   "outputs": [
    {
     "data": {
      "text/plain": [
       "datetime.datetime(1997, 8, 20, 10, 13)"
      ]
     },
     "execution_count": 5,
     "metadata": {},
     "output_type": "execute_result"
    }
   ],
   "source": [
    "newtime = d + rep\n",
    "newtime"
   ]
  },
  {
   "cell_type": "markdown",
   "metadata": {},
   "source": [
    "### 6. Display the month of the new date"
   ]
  },
  {
   "cell_type": "code",
   "execution_count": 6,
   "metadata": {},
   "outputs": [
    {
     "data": {
      "text/plain": [
       "5"
      ]
     },
     "execution_count": 6,
     "metadata": {},
     "output_type": "execute_result"
    }
   ],
   "source": [
    "d.month"
   ]
  },
  {
   "cell_type": "markdown",
   "metadata": {},
   "source": [
    "### 7. Create a list of datetimes for all of your birthdays\n",
    "\n",
    "beginning from your 1st birthday and ending on your most recent birthday. (Don't do this manually; use a loop or a list comprehension!)"
   ]
  },
  {
   "cell_type": "code",
   "execution_count": 7,
   "metadata": {},
   "outputs": [
    {
     "data": {
      "text/plain": [
       "[datetime.datetime(1997, 5, 12, 0, 0),\n",
       " datetime.datetime(1998, 5, 12, 0, 0),\n",
       " datetime.datetime(1999, 5, 12, 0, 0),\n",
       " datetime.datetime(2000, 5, 12, 0, 0),\n",
       " datetime.datetime(2001, 5, 12, 0, 0),\n",
       " datetime.datetime(2002, 5, 12, 0, 0),\n",
       " datetime.datetime(2003, 5, 12, 0, 0),\n",
       " datetime.datetime(2004, 5, 12, 0, 0),\n",
       " datetime.datetime(2005, 5, 12, 0, 0),\n",
       " datetime.datetime(2006, 5, 12, 0, 0),\n",
       " datetime.datetime(2007, 5, 12, 0, 0),\n",
       " datetime.datetime(2008, 5, 12, 0, 0),\n",
       " datetime.datetime(2009, 5, 12, 0, 0),\n",
       " datetime.datetime(2010, 5, 12, 0, 0),\n",
       " datetime.datetime(2011, 5, 12, 0, 0),\n",
       " datetime.datetime(2012, 5, 12, 0, 0),\n",
       " datetime.datetime(2013, 5, 12, 0, 0),\n",
       " datetime.datetime(2014, 5, 12, 0, 0),\n",
       " datetime.datetime(2015, 5, 12, 0, 0),\n",
       " datetime.datetime(2016, 5, 12, 0, 0),\n",
       " datetime.datetime(2017, 5, 12, 0, 0)]"
      ]
     },
     "execution_count": 7,
     "metadata": {},
     "output_type": "execute_result"
    }
   ],
   "source": [
    "#for loop\n",
    "dy = []\n",
    "for years in range(1997,2018):\n",
    "    dy.append(datetime.datetime(years,5,12))\n",
    "dy\n",
    "\n",
    "#list comprehension\n",
    "dy = [datetime.datetime(i,5,12) for i in range(1997,2018)]\n",
    "dy"
   ]
  },
  {
   "cell_type": "markdown",
   "metadata": {},
   "source": [
    "### 8. Count how many of your birthdays occured on a Tuesday\n",
    "\n",
    "Don't forget about the [docs](https://docs.python.org/3/library/datetime.html)!"
   ]
  },
  {
   "cell_type": "code",
   "execution_count": 8,
   "metadata": {},
   "outputs": [
    {
     "data": {
      "text/plain": [
       "3"
      ]
     },
     "execution_count": 8,
     "metadata": {},
     "output_type": "execute_result"
    }
   ],
   "source": [
    "#datetime.date.isoweekday(years,5,12)\n",
    "Count_Tues = 0\n",
    "\n",
    "for iday in dy:\n",
    "    if iday.isoweekday() ==2:\n",
    "        Count_Tues += 1 \n",
    "        \n",
    "Count_Tues"
   ]
  },
  {
   "cell_type": "markdown",
   "metadata": {},
   "source": [
    "## Part II: Writing Functions\n",
    "\n",
    "### 1. Write a function to convert temperature from kelvin to celsius\n",
    "\n",
    "and celsius to kelvin"
   ]
  },
  {
   "cell_type": "code",
   "execution_count": 9,
   "metadata": {},
   "outputs": [
    {
     "name": "stdout",
     "output_type": "stream",
     "text": [
      "14.850000000000023\n",
      "294.15\n"
     ]
    }
   ],
   "source": [
    "#celsius = kelvin - 273.15;\n",
    "def KelvintoCelsius(Kelvin):\n",
    "    \"\"\"\n",
    "    Add number in unit Kelvin\n",
    "    \n",
    "    parameters\n",
    "    ----------\n",
    "    Kelvin :float\n",
    "    \n",
    "    returns\n",
    "    ----------\n",
    "    Celsius:float\n",
    "        Units Conversion\n",
    "    \"\"\"\n",
    "    Celsius = Kelvin - 273.15\n",
    "    return Celsius\n",
    "\n",
    "#Trial Run\n",
    "print(KelvintoCelsius(288))\n",
    "\n",
    "#celsius = kelvin - 273.15;\n",
    "def CelsiustoKevin(Celsius):\n",
    "    \"\"\"\n",
    "    Add number in unit Celsius\n",
    "    \n",
    "    parameters\n",
    "    ----------\n",
    "    Celsius :float\n",
    "    \n",
    "    returns\n",
    "    ----------\n",
    "    Kelvin:float\n",
    "        Units Conversion\n",
    "    \"\"\"\n",
    "    Kelvin = Celsius + 273.15\n",
    "    return Kelvin\n",
    "\n",
    "#Trial Run\n",
    "print(CelsiustoKevin(21))"
   ]
  },
  {
   "cell_type": "markdown",
   "metadata": {},
   "source": [
    "### 2. Write a function to convert temperature to fahrenheit\n",
    "\n",
    "Include an optional keyword argument to specify whether the input is in  celcius or kelvin.\n",
    "Call your previously defined functions if necessary."
   ]
  },
  {
   "cell_type": "code",
   "execution_count": 10,
   "metadata": {},
   "outputs": [],
   "source": [
    "# fahrenheit = celcious * 1.8 + 32, fahrenheit = (kelvin-273.15) * 1.8 + 32;\n",
    "def ToFahrenheit(degree,Celsius=True):\n",
    "    \"\"\"\n",
    "    Add number in units Celsius or Kelvin\n",
    "    \n",
    "    parameters\n",
    "    ----------\n",
    "    Celsius and Kelvin :float\n",
    "    \n",
    "    returns\n",
    "    ----------\n",
    "    Fahren:float\n",
    "        Units Conversion to Fahrenheit\n",
    "    \"\"\"\n",
    "    if Celsius:\n",
    "        Fahren=degree*1.8 + 32\n",
    "    else:\n",
    "        Fahren=(degree-273.15)*1.8 +32\n",
    "    return Fahren"
   ]
  },
  {
   "cell_type": "markdown",
   "metadata": {},
   "source": [
    "### 3. Check that the outputs are sensible\n",
    "\n",
    "by trying a few examples"
   ]
  },
  {
   "cell_type": "code",
   "execution_count": 11,
   "metadata": {},
   "outputs": [
    {
     "data": {
      "text/plain": [
       "75.2"
      ]
     },
     "execution_count": 11,
     "metadata": {},
     "output_type": "execute_result"
    }
   ],
   "source": [
    "ToFahrenheit(24,Celsius=True)"
   ]
  },
  {
   "cell_type": "code",
   "execution_count": 12,
   "metadata": {},
   "outputs": [
    {
     "data": {
      "text/plain": [
       "58.73000000000005"
      ]
     },
     "execution_count": 12,
     "metadata": {},
     "output_type": "execute_result"
    }
   ],
   "source": [
    "ToFahrenheit(288,Celsius=False)"
   ]
  },
  {
   "cell_type": "markdown",
   "metadata": {},
   "source": [
    "### 4. Now write a function that converts _from_ farenheit\n",
    "\n",
    "and uses a keyword argument to specify whether you want the output in celcius or kelvin"
   ]
  },
  {
   "cell_type": "code",
   "execution_count": 13,
   "metadata": {},
   "outputs": [],
   "source": [
    "# fahrenheit-32/1.8 = celsius, (fahrenheit -32)/1.8 +273.15 = kelvin\n",
    "def FromFahrenheit(Fahrenheit,Output_Celsius=True):\n",
    "    \"\"\"\n",
    "    Add number in unit Fahrenheit\n",
    "    \n",
    "    parameters\n",
    "    ----------\n",
    "    Fahrenheit :float\n",
    "    \n",
    "    returns\n",
    "    ----------\n",
    "    output:float\n",
    "        The output can be either in Celsius or Kelvin\n",
    "    \"\"\"\n",
    "    if Output_Celsius:\n",
    "        Output = (Fahrenheit -32)/ 1.8\n",
    "    else:\n",
    "        Output = (Fahrenheit - 32)/1.8 +273.15\n",
    "    return Output"
   ]
  },
  {
   "cell_type": "code",
   "execution_count": 14,
   "metadata": {},
   "outputs": [
    {
     "name": "stdout",
     "output_type": "stream",
     "text": [
      "24.0\n",
      "288.0\n"
     ]
    }
   ],
   "source": [
    "#Check if the outputs are sensible\n",
    "print(FromFahrenheit(75.2,Output_Celsius=True))\n",
    "print(FromFahrenheit(58.73,Output_Celsius=False))"
   ]
  },
  {
   "cell_type": "markdown",
   "metadata": {},
   "source": [
    "### 5. Write a function that takes two arguments (feet and inches) and returns height in meters\n",
    "\n",
    "Verify it gives sensible answers"
   ]
  },
  {
   "cell_type": "code",
   "execution_count": 15,
   "metadata": {},
   "outputs": [],
   "source": [
    "def turner(feet,inch):\n",
    "    \"\"\"\n",
    "    Add number in unit feet,inches\n",
    "    \n",
    "    parameters\n",
    "    ----------\n",
    "    feet,inches :float\n",
    "    \n",
    "    returns\n",
    "    ----------\n",
    "    meters:float\n",
    "        Units Conversion to meters\n",
    "    \"\"\"\n",
    "    feet_total = feet + 0.0833333*inch\n",
    "    meter = feet_total * 0.3048\n",
    "    return meter"
   ]
  },
  {
   "cell_type": "code",
   "execution_count": 16,
   "metadata": {},
   "outputs": [
    {
     "data": {
      "text/plain": [
       "1.7271999187200002"
      ]
     },
     "execution_count": 16,
     "metadata": {},
     "output_type": "execute_result"
    }
   ],
   "source": [
    "turner(5,8)"
   ]
  },
  {
   "cell_type": "code",
   "execution_count": 17,
   "metadata": {},
   "outputs": [
    {
     "data": {
      "text/plain": [
       "1.85419998984"
      ]
     },
     "execution_count": 17,
     "metadata": {},
     "output_type": "execute_result"
    }
   ],
   "source": [
    "turner(6,1)"
   ]
  },
  {
   "cell_type": "code",
   "execution_count": 18,
   "metadata": {},
   "outputs": [
    {
     "data": {
      "text/plain": [
       "1.9557999492"
      ]
     },
     "execution_count": 18,
     "metadata": {},
     "output_type": "execute_result"
    }
   ],
   "source": [
    "turner(6,5)"
   ]
  },
  {
   "cell_type": "markdown",
   "metadata": {},
   "source": [
    "### 6. Write a function takes one argument (height in meters) and returns two arguments (feet and inches)\n",
    "\n",
    "(Consult the [tutorial on numbers](https://docs.python.org/3/tutorial/introduction.html#numbers) if you are stuck on how to implement this.)\n",
    "                                   "
   ]
  },
  {
   "cell_type": "code",
   "execution_count": 19,
   "metadata": {},
   "outputs": [],
   "source": [
    "#feet = meters * 3.28084, inches = meters *39.3701, 1 feet = 12 inches\n",
    "def To_FeetInches(meters):\n",
    "    \"\"\"\n",
    "    Add number in unit meters\n",
    "    \n",
    "    parameters\n",
    "    ----------\n",
    "    meters :float\n",
    "    \n",
    "    returns\n",
    "    ----------\n",
    "    feet, inches:float\n",
    "        \n",
    "    \"\"\"\n",
    "    feet_total = meters * 3.28084\n",
    "    feet = int(feet_total)\n",
    "    inches = round(meters * 39.3701 - feet * 12)\n",
    "    return feet, inches"
   ]
  },
  {
   "cell_type": "markdown",
   "metadata": {},
   "source": [
    "### 7. Verify that the \"round trip\" conversion from and back to meters is consistent \n",
    "\n",
    "Check for 3 different values of height in meters"
   ]
  },
  {
   "cell_type": "code",
   "execution_count": 20,
   "metadata": {},
   "outputs": [
    {
     "data": {
      "text/plain": [
       "(5, 8)"
      ]
     },
     "execution_count": 20,
     "metadata": {},
     "output_type": "execute_result"
    }
   ],
   "source": [
    "To_FeetInches(1.72)"
   ]
  },
  {
   "cell_type": "code",
   "execution_count": 21,
   "metadata": {},
   "outputs": [
    {
     "data": {
      "text/plain": [
       "1.7271999187200002"
      ]
     },
     "execution_count": 21,
     "metadata": {},
     "output_type": "execute_result"
    }
   ],
   "source": [
    "turner(5,8)"
   ]
  },
  {
   "cell_type": "code",
   "execution_count": 22,
   "metadata": {},
   "outputs": [
    {
     "data": {
      "text/plain": [
       "(6, 1)"
      ]
     },
     "execution_count": 22,
     "metadata": {},
     "output_type": "execute_result"
    }
   ],
   "source": [
    "To_FeetInches(1.85)"
   ]
  },
  {
   "cell_type": "code",
   "execution_count": 23,
   "metadata": {},
   "outputs": [
    {
     "data": {
      "text/plain": [
       "1.85419998984"
      ]
     },
     "execution_count": 23,
     "metadata": {},
     "output_type": "execute_result"
    }
   ],
   "source": [
    "turner(6,1)"
   ]
  },
  {
   "cell_type": "code",
   "execution_count": 24,
   "metadata": {},
   "outputs": [
    {
     "data": {
      "text/plain": [
       "(6, 5)"
      ]
     },
     "execution_count": 24,
     "metadata": {},
     "output_type": "execute_result"
    }
   ],
   "source": [
    "To_FeetInches(1.95)"
   ]
  },
  {
   "cell_type": "code",
   "execution_count": 25,
   "metadata": {},
   "outputs": [
    {
     "data": {
      "text/plain": [
       "1.9557999492"
      ]
     },
     "execution_count": 25,
     "metadata": {},
     "output_type": "execute_result"
    }
   ],
   "source": [
    "turner(6,5)"
   ]
  },
  {
   "cell_type": "markdown",
   "metadata": {},
   "source": [
    "## Part III: Modules\n",
    "\n",
    "_[This section is worth 6 points]_\n",
    "\n",
    "Put all of your above functions into a module called `units.py`. Create valid [docstrings](https://www.python.org/dev/peps/pep-0257/) for each function.\n",
    "\n",
    "Import the module. Verify that you can call the functions and view their docstrings."
   ]
  },
  {
   "cell_type": "code",
   "execution_count": 2,
   "metadata": {},
   "outputs": [
    {
     "name": "stdout",
     "output_type": "stream",
     "text": [
      "14.850000000000023\n",
      "294.15\n"
     ]
    }
   ],
   "source": [
    "import units"
   ]
  },
  {
   "cell_type": "code",
   "execution_count": 6,
   "metadata": {},
   "outputs": [
    {
     "data": {
      "text/plain": [
       "\u001b[0;31mSignature:\u001b[0m \u001b[0munits\u001b[0m\u001b[0;34m.\u001b[0m\u001b[0mKelvintoCelsius\u001b[0m\u001b[0;34m(\u001b[0m\u001b[0mKelvin\u001b[0m\u001b[0;34m)\u001b[0m\u001b[0;34m\u001b[0m\u001b[0m\n",
       "\u001b[0;31mDocstring:\u001b[0m\n",
       "Add number in unit Kelvin\n",
       "\n",
       "parameters\n",
       "----------\n",
       "Kelvin :float\n",
       "\n",
       "returns\n",
       "----------\n",
       "Celsius:float\n",
       "    Units Conversion\n",
       "\u001b[0;31mFile:\u001b[0m      ~/rces-assignments/units.py\n",
       "\u001b[0;31mType:\u001b[0m      function\n"
      ]
     },
     "metadata": {},
     "output_type": "display_data"
    },
    {
     "data": {
      "text/plain": [
       "14.850000000000023"
      ]
     },
     "execution_count": 6,
     "metadata": {},
     "output_type": "execute_result"
    }
   ],
   "source": [
    "units.KelvintoCelsius?\n",
    "units.KelvintoCelsius(288)"
   ]
  },
  {
   "cell_type": "code",
   "execution_count": 7,
   "metadata": {},
   "outputs": [
    {
     "data": {
      "text/plain": [
       "290.15"
      ]
     },
     "execution_count": 7,
     "metadata": {},
     "output_type": "execute_result"
    },
    {
     "data": {
      "text/plain": [
       "\u001b[0;31mSignature:\u001b[0m \u001b[0munits\u001b[0m\u001b[0;34m.\u001b[0m\u001b[0mCelsiustoKevin\u001b[0m\u001b[0;34m(\u001b[0m\u001b[0mCelsius\u001b[0m\u001b[0;34m)\u001b[0m\u001b[0;34m\u001b[0m\u001b[0m\n",
       "\u001b[0;31mDocstring:\u001b[0m\n",
       "Add number in unit Celsius\n",
       "\n",
       "parameters\n",
       "----------\n",
       "Celsius :float\n",
       "\n",
       "returns\n",
       "----------\n",
       "Kelvin:float\n",
       "    Units Conversion\n",
       "\u001b[0;31mFile:\u001b[0m      ~/rces-assignments/units.py\n",
       "\u001b[0;31mType:\u001b[0m      function\n"
      ]
     },
     "metadata": {},
     "output_type": "display_data"
    }
   ],
   "source": [
    "units.CelsiustoKevin?\n",
    "units.CelsiustoKevin(17)"
   ]
  },
  {
   "cell_type": "code",
   "execution_count": 8,
   "metadata": {},
   "outputs": [
    {
     "data": {
      "text/plain": [
       "(5, 11)"
      ]
     },
     "execution_count": 8,
     "metadata": {},
     "output_type": "execute_result"
    },
    {
     "data": {
      "text/plain": [
       "\u001b[0;31mSignature:\u001b[0m \u001b[0munits\u001b[0m\u001b[0;34m.\u001b[0m\u001b[0mTo_FeetInches\u001b[0m\u001b[0;34m(\u001b[0m\u001b[0mmeters\u001b[0m\u001b[0;34m)\u001b[0m\u001b[0;34m\u001b[0m\u001b[0m\n",
       "\u001b[0;31mDocstring:\u001b[0m\n",
       "Add number in unit meters\n",
       "\n",
       "parameters\n",
       "----------\n",
       "meters :float\n",
       "\n",
       "returns\n",
       "----------\n",
       "feet, inches:float\n",
       "    \n",
       "\u001b[0;31mFile:\u001b[0m      ~/rces-assignments/units.py\n",
       "\u001b[0;31mType:\u001b[0m      function\n"
      ]
     },
     "metadata": {},
     "output_type": "display_data"
    }
   ],
   "source": [
    "units.To_FeetInches?\n",
    "units.To_FeetInches(1.8)"
   ]
  },
  {
   "cell_type": "code",
   "execution_count": 9,
   "metadata": {},
   "outputs": [
    {
     "data": {
      "text/plain": [
       "57.2"
      ]
     },
     "execution_count": 9,
     "metadata": {},
     "output_type": "execute_result"
    },
    {
     "data": {
      "text/plain": [
       "\u001b[0;31mSignature:\u001b[0m \u001b[0munits\u001b[0m\u001b[0;34m.\u001b[0m\u001b[0mToFahrenheit\u001b[0m\u001b[0;34m(\u001b[0m\u001b[0mdegree\u001b[0m\u001b[0;34m,\u001b[0m \u001b[0mCelsius\u001b[0m\u001b[0;34m=\u001b[0m\u001b[0;32mTrue\u001b[0m\u001b[0;34m)\u001b[0m\u001b[0;34m\u001b[0m\u001b[0m\n",
       "\u001b[0;31mDocstring:\u001b[0m\n",
       "Add number in units Celsius or Kelvin\n",
       "\n",
       "parameters\n",
       "----------\n",
       "Celsius and Kelvin :float\n",
       "\n",
       "returns\n",
       "----------\n",
       "Fahren:float\n",
       "    Units Conversion to Fahrenheit\n",
       "\u001b[0;31mFile:\u001b[0m      ~/rces-assignments/units.py\n",
       "\u001b[0;31mType:\u001b[0m      function\n"
      ]
     },
     "metadata": {},
     "output_type": "display_data"
    }
   ],
   "source": [
    "units.ToFahrenheit?\n",
    "units.ToFahrenheit(14,True)"
   ]
  },
  {
   "cell_type": "code",
   "execution_count": 11,
   "metadata": {},
   "outputs": [
    {
     "data": {
      "text/plain": [
       "287.0388888888889"
      ]
     },
     "execution_count": 11,
     "metadata": {},
     "output_type": "execute_result"
    },
    {
     "data": {
      "text/plain": [
       "\u001b[0;31mSignature:\u001b[0m \u001b[0munits\u001b[0m\u001b[0;34m.\u001b[0m\u001b[0mFromFahrenheit\u001b[0m\u001b[0;34m(\u001b[0m\u001b[0mFahrenheit\u001b[0m\u001b[0;34m,\u001b[0m \u001b[0mOutput_Celsius\u001b[0m\u001b[0;34m=\u001b[0m\u001b[0;32mTrue\u001b[0m\u001b[0;34m)\u001b[0m\u001b[0;34m\u001b[0m\u001b[0m\n",
       "\u001b[0;31mDocstring:\u001b[0m\n",
       "Add number in unit Fahrenheit\n",
       "\n",
       "parameters\n",
       "----------\n",
       "Fahrenheit :float\n",
       "\n",
       "returns\n",
       "----------\n",
       "output:float\n",
       "    The output can be either in Celsius or Kelvin\n",
       "\u001b[0;31mFile:\u001b[0m      ~/rces-assignments/units.py\n",
       "\u001b[0;31mType:\u001b[0m      function\n"
      ]
     },
     "metadata": {},
     "output_type": "display_data"
    }
   ],
   "source": [
    "units.FromFahrenheit?\n",
    "units.FromFahrenheit(57,False)"
   ]
  },
  {
   "cell_type": "code",
   "execution_count": 12,
   "metadata": {},
   "outputs": [
    {
     "data": {
      "text/plain": [
       "1.7271999187200002"
      ]
     },
     "execution_count": 12,
     "metadata": {},
     "output_type": "execute_result"
    },
    {
     "data": {
      "text/plain": [
       "\u001b[0;31mSignature:\u001b[0m \u001b[0munits\u001b[0m\u001b[0;34m.\u001b[0m\u001b[0mturner\u001b[0m\u001b[0;34m(\u001b[0m\u001b[0mfeet\u001b[0m\u001b[0;34m,\u001b[0m \u001b[0minch\u001b[0m\u001b[0;34m)\u001b[0m\u001b[0;34m\u001b[0m\u001b[0m\n",
       "\u001b[0;31mDocstring:\u001b[0m\n",
       "Add number in unit feet,inches\n",
       "\n",
       "parameters\n",
       "----------\n",
       "feet,inches :float\n",
       "\n",
       "returns\n",
       "----------\n",
       "meters:float\n",
       "    Units Conversion to meters\n",
       "\u001b[0;31mFile:\u001b[0m      ~/rces-assignments/units.py\n",
       "\u001b[0;31mType:\u001b[0m      function\n"
      ]
     },
     "metadata": {},
     "output_type": "display_data"
    }
   ],
   "source": [
    "units.turner?\n",
    "units.turner(5,8)"
   ]
  },
  {
   "cell_type": "markdown",
   "metadata": {},
   "source": [
    "## Part IV: Classes\n",
    "\n",
    "_[This section is worth 6 points]_\n",
    "\n",
    "Write a class that represents a Planet. The constructor class should accept the arguments `radius` (in meters) and `rotation_period` (in seconds).\n",
    "\n",
    "You should implement three methods:\n",
    "- `surface_area`\n",
    "- `rotation_frequency`\n",
    "- `__eq__` \"magic/dunder method\" used to test for equality between two planets (i.e. `planet1 == planet2`)\n",
    "\n"
   ]
  },
  {
   "cell_type": "code",
   "execution_count": 33,
   "metadata": {},
   "outputs": [],
   "source": [
    "class Planet:\n",
    "    def __init__(self, radius, rotation_period):\n",
    "        self.radius= radius\n",
    "        self.rotation_period = rotation_period\n",
    "        \n",
    "    def surface_area(self):\n",
    "        area = 4* 3.1415926575 * self.radius**2\n",
    "        return area\n",
    "    \n",
    "    def rotation_frequency(self):\n",
    "        frequency = 2 * 3.1415926575 / self.rotation_period\n",
    "        return frequency\n",
    "    \n",
    "    def __eq__(self, other):\n",
    "        return self.radius == other.radius and self.rotation_period == other.rotation_period \n",
    "        "
   ]
  },
  {
   "cell_type": "markdown",
   "metadata": {},
   "source": [
    "If you class works properly, it should pass all of the tests below:"
   ]
  },
  {
   "cell_type": "code",
   "execution_count": 34,
   "metadata": {},
   "outputs": [],
   "source": [
    "earth = Planet(6.3781e6, 86400)\n",
    "\n",
    "import pytest\n",
    "assert earth.surface_area() == pytest.approx(5.112015e14)\n",
    "assert earth.rotation_frequency() == pytest.approx(7.2722e-5)\n",
    "\n",
    "earth2 = Planet(6.3781e6, 86400)\n",
    "assert earth == earth2\n",
    "\n",
    "jupyter = Planet(69.911e6, 9.925*60*60)\n",
    "assert jupyter.surface_area() == pytest.approx(6.14187e16)\n",
    "assert jupyter.rotation_frequency() == pytest.approx(1.758518e-4)"
   ]
  },
  {
   "cell_type": "code",
   "execution_count": null,
   "metadata": {},
   "outputs": [],
   "source": []
  }
 ],
 "metadata": {
  "kernelspec": {
   "display_name": "Python [default]",
   "language": "python",
   "name": "python3"
  },
  "language_info": {
   "codemirror_mode": {
    "name": "ipython",
    "version": 3
   },
   "file_extension": ".py",
   "mimetype": "text/x-python",
   "name": "python",
   "nbconvert_exporter": "python",
   "pygments_lexer": "ipython3",
   "version": "3.6.3"
  }
 },
 "nbformat": 4,
 "nbformat_minor": 2
}
