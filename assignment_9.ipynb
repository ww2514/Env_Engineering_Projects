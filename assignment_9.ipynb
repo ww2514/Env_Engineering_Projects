{
 "cells": [
  {
   "cell_type": "markdown",
   "metadata": {},
   "source": [
    "# Speed, Performance, and Profiling in Python\n",
    "\n",
    "We just learned about ...\n",
    "\n",
    "### 1) Write a function to find the maximum of a list of numbers using _pure core python_ (no numpy)"
   ]
  },
  {
   "cell_type": "code",
   "execution_count": 10,
   "metadata": {},
   "outputs": [],
   "source": [
    "def mmm(l):\n",
    "    maxguess = l[0]\n",
    "\n",
    "    for val in l:\n",
    "        if val > maxguess:\n",
    "            maxguess = val\n",
    "        \n",
    "    return maxguess\n",
    "   "
   ]
  },
  {
   "cell_type": "markdown",
   "metadata": {},
   "source": [
    "### 2) Apply this function to lists of 100, 1000, 10000, 10000, and 1000000 randomly generated numbers. Use the `%timeit` magic to profile the execution speed\n",
    "\n",
    "(You can use numpy to [generate the random numbers](https://docs.scipy.org/doc/numpy-1.14.0/reference/routines.random.html).)"
   ]
  },
  {
   "cell_type": "code",
   "execution_count": 17,
   "metadata": {},
   "outputs": [
    {
     "name": "stdout",
     "output_type": "stream",
     "text": [
      "58.8 µs ± 205 ns per loop (mean ± std. dev. of 7 runs, 10000 loops each)\n",
      "594 µs ± 2.31 µs per loop (mean ± std. dev. of 7 runs, 1000 loops each)\n",
      "5.77 ms ± 75.3 µs per loop (mean ± std. dev. of 7 runs, 100 loops each)\n",
      "58.3 ms ± 181 µs per loop (mean ± std. dev. of 7 runs, 10 loops each)\n",
      "571 ms ± 1.98 ms per loop (mean ± std. dev. of 7 runs, 1 loop each)\n"
     ]
    }
   ],
   "source": [
    "import numpy as np\n",
    "\n",
    "gen = [100,1000,10000,100000,1000000]    \n",
    "for co in gen:\n",
    "    test = np.random.rand(co,1)\n",
    "    %timeit mmm(test)\n",
    "      "
   ]
  },
  {
   "cell_type": "markdown",
   "metadata": {},
   "source": [
    "### 3) Do the same thing for numpy's `max` function"
   ]
  },
  {
   "cell_type": "code",
   "execution_count": 30,
   "metadata": {},
   "outputs": [
    {
     "name": "stdout",
     "output_type": "stream",
     "text": [
      "3.74 µs ± 17.9 ns per loop (mean ± std. dev. of 7 runs, 100000 loops each)\n",
      "4.22 µs ± 73.1 ns per loop (mean ± std. dev. of 7 runs, 100000 loops each)\n",
      "8.04 µs ± 126 ns per loop (mean ± std. dev. of 7 runs, 100000 loops each)\n",
      "47.4 µs ± 829 ns per loop (mean ± std. dev. of 7 runs, 10000 loops each)\n",
      "460 µs ± 8.92 µs per loop (mean ± std. dev. of 7 runs, 1000 loops each)\n"
     ]
    }
   ],
   "source": [
    "import numpy as np\n",
    "\n",
    "for co in gen:\n",
    "    test = np.random.rand(co,1)\n",
    "    %timeit np.max(test)"
   ]
  },
  {
   "cell_type": "markdown",
   "metadata": {},
   "source": [
    "## 4) Put all of the above data into a pandas dataframe and plot it"
   ]
  },
  {
   "cell_type": "code",
   "execution_count": 39,
   "metadata": {},
   "outputs": [
    {
     "data": {
      "text/html": [
       "<div>\n",
       "<style scoped>\n",
       "    .dataframe tbody tr th:only-of-type {\n",
       "        vertical-align: middle;\n",
       "    }\n",
       "\n",
       "    .dataframe tbody tr th {\n",
       "        vertical-align: top;\n",
       "    }\n",
       "\n",
       "    .dataframe thead th {\n",
       "        text-align: right;\n",
       "    }\n",
       "</style>\n",
       "<table border=\"1\" class=\"dataframe\">\n",
       "  <thead>\n",
       "    <tr style=\"text-align: right;\">\n",
       "      <th></th>\n",
       "      <th>python</th>\n",
       "      <th>numpy</th>\n",
       "    </tr>\n",
       "  </thead>\n",
       "  <tbody>\n",
       "    <tr>\n",
       "      <th>100</th>\n",
       "      <td>5.88</td>\n",
       "      <td>3.74</td>\n",
       "    </tr>\n",
       "    <tr>\n",
       "      <th>1000</th>\n",
       "      <td>5.94</td>\n",
       "      <td>4.22</td>\n",
       "    </tr>\n",
       "    <tr>\n",
       "      <th>10000</th>\n",
       "      <td>5.77</td>\n",
       "      <td>8.04</td>\n",
       "    </tr>\n",
       "    <tr>\n",
       "      <th>100000</th>\n",
       "      <td>58.30</td>\n",
       "      <td>47.40</td>\n",
       "    </tr>\n",
       "    <tr>\n",
       "      <th>1000000</th>\n",
       "      <td>571.00</td>\n",
       "      <td>458.00</td>\n",
       "    </tr>\n",
       "  </tbody>\n",
       "</table>\n",
       "</div>"
      ],
      "text/plain": [
       "         python   numpy\n",
       "100        5.88    3.74\n",
       "1000       5.94    4.22\n",
       "10000      5.77    8.04\n",
       "100000    58.30   47.40\n",
       "1000000  571.00  458.00"
      ]
     },
     "execution_count": 39,
     "metadata": {},
     "output_type": "execute_result"
    }
   ],
   "source": [
    "import pandas as pd\n",
    "import numpy as np\n",
    "from matplotlib import pyplot as plt\n",
    "%matplotlib inline\n",
    "\n",
    "data = {'python': [5.88, 5.94, 5.77,58.3,571],\n",
    "        'numpy': [3.74,4.22,8.04,47.4,458],\n",
    "        }\n",
    "\n",
    "df = pd.DataFrame(data, index=[gen])\n",
    "df"
   ]
  },
  {
   "cell_type": "code",
   "execution_count": 40,
   "metadata": {},
   "outputs": [
    {
     "data": {
      "image/png": "[encoded data removed]",
      "text/plain": [
       "<Figure size 432x288 with 1 Axes>"
      ]
     },
     "metadata": {},
     "output_type": "display_data"
    }
   ],
   "source": [
    "fig, ax = plt.subplots()\n",
    "df.plot(ax=ax)\n",
    "ax.set_yscale('log')"
   ]
  },
  {
   "cell_type": "markdown",
   "metadata": {},
   "source": [
    "### 5) Now do the same thing with dask\n",
    "\n",
    "Use array sizes from 10,000 to 100,000,000 and chunk sizes from 1000 to 1,000,000. Only test combinations where chunk sizes is less than the array size."
   ]
  },
  {
   "cell_type": "code",
   "execution_count": 4,
   "metadata": {},
   "outputs": [
    {
     "data": {
      "text/plain": [
       "\u001b[0;31mSignature:\u001b[0m \u001b[0mda\u001b[0m\u001b[0;34m.\u001b[0m\u001b[0mrandom\u001b[0m\u001b[0;34m.\u001b[0m\u001b[0mrandom\u001b[0m\u001b[0;34m(\u001b[0m\u001b[0msize\u001b[0m\u001b[0;34m=\u001b[0m\u001b[0;32mNone\u001b[0m\u001b[0;34m,\u001b[0m \u001b[0mchunks\u001b[0m\u001b[0;34m=\u001b[0m\u001b[0;32mNone\u001b[0m\u001b[0;34m)\u001b[0m\u001b[0;34m\u001b[0m\u001b[0m\n",
       "\u001b[0;31mDocstring:\u001b[0m\n",
       "random_sample(size=None)\n",
       "\n",
       "Return random floats in the half-open interval [0.0, 1.0).\n",
       "\n",
       "Results are from the \"continuous uniform\" distribution over the\n",
       "stated interval.  To sample :math:`Unif[a, b), b > a` multiply\n",
       "the output of `random_sample` by `(b-a)` and add `a`::\n",
       "\n",
       "  (b - a) * random_sample() + a\n",
       "\n",
       "Parameters\n",
       "----------\n",
       "size : int or tuple of ints, optional\n",
       "    Output shape.  If the given shape is, e.g., ``(m, n, k)``, then\n",
       "    ``m * n * k`` samples are drawn.  Default is None, in which case a\n",
       "    single value is returned.\n",
       "\n",
       "Returns\n",
       "-------\n",
       "out : float or ndarray of floats\n",
       "    Array of random floats of shape `size` (unless ``size=None``, in which\n",
       "    case a single float is returned).\n",
       "\n",
       "Examples\n",
       "--------\n",
       ">>> np.random.random_sample()  # doctest: +SKIP\n",
       "0.47108547995356098\n",
       ">>> type(np.random.random_sample())  # doctest: +SKIP\n",
       "<type 'float'>\n",
       ">>> np.random.random_sample((5,))  # doctest: +SKIP\n",
       "array([ 0.30220482,  0.86820401,  0.1654503 ,  0.11659149,  0.54323428])\n",
       "\n",
       "Three-by-two array of random numbers from [-5, 0):\n",
       "\n",
       ">>> 5 * np.random.random_sample((3, 2)) - 5  # doctest: +SKIP\n",
       "array([[-3.99149989, -0.52338984],\n",
       "       [-2.99091858, -0.79479508],\n",
       "       [-1.23204345, -1.75224494]])\n",
       "\u001b[0;31mFile:\u001b[0m      /opt/conda/lib/python3.6/site-packages/dask/array/random.py\n",
       "\u001b[0;31mType:\u001b[0m      method\n"
      ]
     },
     "metadata": {},
     "output_type": "display_data"
    }
   ],
   "source": [
    "import dask.array as da\n",
    "da.random.random?"
   ]
  },
  {
   "cell_type": "code",
   "execution_count": 1,
   "metadata": {},
   "outputs": [
    {
     "ename": "SyntaxError",
     "evalue": "invalid syntax (<ipython-input-1-9b6ad323f822>, line 5)",
     "output_type": "error",
     "traceback": [
      "\u001b[0;36m  File \u001b[0;32m\"<ipython-input-1-9b6ad323f822>\"\u001b[0;36m, line \u001b[0;32m5\u001b[0m\n\u001b[0;31m    rand_np = da.random.random(`shape,1)\u001b[0m\n\u001b[0m                               ^\u001b[0m\n\u001b[0;31mSyntaxError\u001b[0m\u001b[0;31m:\u001b[0m invalid syntax\n"
     ]
    }
   ],
   "source": [
    "import dask.array as da\n",
    "\n",
    "shape = (10000,1000000000)\n",
    "for size in shape:\n",
    "    rand_np = da.random.random(shape,1)\n",
    "    rand_np\n",
    "\n",
    "chunk_shape = (1000,1000000)\n",
    "#ones = da.random.random(rand_np, chunks=chunk_shape)\n",
    "#ones"
   ]
  },
  {
   "cell_type": "markdown",
   "metadata": {},
   "source": [
    "### (Extra) Play around with this dataset"
   ]
  },
  {
   "cell_type": "code",
   "execution_count": null,
   "metadata": {},
   "outputs": [],
   "source": [
    "import intake\n",
    "catalog_url = 'https://github.com/pangeo-data/pangeo/raw/master/gce/catalog.yaml'\n",
    "ds = intake.Catalog(catalog_url).newmann_zarr.to_dask()\n",
    "ds"
   ]
  },
  {
   "cell_type": "code",
   "execution_count": null,
   "metadata": {},
   "outputs": [],
   "source": []
  }
 ],
 "metadata": {
  "kernelspec": {
   "display_name": "Python [default]",
   "language": "python",
   "name": "python3"
  },
  "language_info": {
   "codemirror_mode": {
    "name": "ipython",
    "version": 3
   },
   "file_extension": ".py",
   "mimetype": "text/x-python",
   "name": "python",
   "nbconvert_exporter": "python",
   "pygments_lexer": "ipython3",
   "version": "3.6.3"
  }
 },
 "nbformat": 4,
 "nbformat_minor": 2
}
