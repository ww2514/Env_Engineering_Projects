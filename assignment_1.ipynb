{
 "cells": [
  {
   "cell_type": "markdown",
   "metadata": {},
   "source": [
    "# Assignment 1\n",
    "\n",
    "## Part 1: Files, Git, GitHub\n",
    "\n",
    "Use JupyterLab to launch a terminal and use the terminal to do the following tasks:\n",
    "\n",
    "1. Create a new directory called `resume` within your home directory\n",
    "2. Create an empty file within this directory called `Readme.md`\n",
    "\n",
    "Now use JupyterLab to edit the file:\n",
    "\n",
    "1. Navigate to the directory in the file browser\n",
    "1. Open `Readme.md` in the text editor\n",
    "1. Open `Readme.md` in in Markdown Preview\n",
    "1. Arrange these files side-by-side so you can see your document rendered\n",
    "1. Edit the file in the editor. Add the following information:\n",
    "\n",
    "    1. Top level heading with your name\n",
    "    1. An image. It can be a photo of you or, if you prefer, a photo of your spirit animal.\n",
    "    1. Secondary heading entitled \"Education\"\n",
    "    1. A list of schools you attended, hyperlinked to the websites of those insitutions\n",
    "\n",
    "1. Save the file\n",
    "    \n",
    "Now go back to the terminal and do the following:\n",
    "\n",
    "1. Initialize a new git repository in the `resume` directory\n",
    "1. Add the `Readme.md` file to the repository\n",
    "1. Create a new commit with a commit message\n",
    "1. Check the git log to see your commit history\n",
    "1. Go to github and create a [new public repository](https://github.com/new) entitled `resume`\n",
    "1. Push your local resume repository to GitHub following the instructions.\n",
    "1. View your online resume at `http://github.com/<your github username>/resume`\n",
    "\n",
    "Finally, go back to the editor and add a new subsection called \"Research Interests\" to your `Readme.md` file. Update your local git repository and push your changes to GitHub. Verify that the remote repository is updated.\n",
    "\n",
    "To \"hand in\" this part of the assignment, just provide the link to your repository in the notebook cell below.\n",
    "\n",
    "\n",
    "## Create your Assignments Repository\n",
    "\n",
    "Now that you know how to create a git repository, you should create your assignments repository.\n",
    "\n",
    "- Create a new directory called `rces-assignments` in your home directory.\n",
    "- Copy the first assignment template into this directory (you will have to repeat this step each time a new assignment comes out.)\n",
    "\n",
    "        cp examples/content/Assignments/assignment_1.ipynb rces-assignments/\n",
    "        \n",
    "        \n",
    "- Initialize a new git repository \n",
    "- Add the file and make your first commit\n",
    "- Create a new **private** repository on GitHub called `rces-assignments`. (Call it exactly like that. Do not vary the spelling, capitalization, or punctuation.)\n",
    "- Push your `rces-assignments` repository to github\n",
    "- On github, go to \"settings\" -> \"collaborators\" and add `rabernat` and `xjin49`\n",
    "- Push new commits to this repository whenever you are ready to hand in your assignments"
   ]
  },
  {
   "cell_type": "markdown",
   "metadata": {},
   "source": [
    "## Part 2: Lists and Loops\n",
    "\n",
    "In this problem, we will explore the basic data structures and flow controls of python by _manually parsing a CSV file_.\n",
    "\n",
    "Note that this is a futile exercise. In the \"real world\" you should never manually parse a CSV file. There are utilities out there that will do it for you much more quickly and efficiently. However, it is a useful exercise for learning python.\n",
    "\n",
    "First we need to download a data file to parse. We can do this from the terminal, OR we can use `!` to run shell commands directly from the notebook. However you do it, you need to run these commands:\n",
    "\n",
    "    wget https://tinyurl.com/rces-roster\n",
    "    mv rces-roster rces-roster.csv\n",
    "    \n",
    "Before starting the python part, use the JupyterLab file browser to browse to this file. Click to open it. What do you see?"
   ]
  },
  {
   "cell_type": "markdown",
   "metadata": {},
   "source": [
    "Now we will begin the process of reading the file with python\n",
    "\n",
    "### Open the file using the `open` function \n",
    "\n",
    "Specifically, run the command\n",
    "\n",
    "    file = open('rces-roster.csv')"
   ]
  },
  {
   "cell_type": "code",
   "execution_count": 1,
   "metadata": {},
   "outputs": [],
   "source": [
    "file = open('rces-roster.csv')"
   ]
  },
  {
   "cell_type": "markdown",
   "metadata": {},
   "source": [
    "### Use the `help` function to get the documentation for your new variable `file`\n",
    "\n",
    "This will produce a long list of methods you can use with `file`."
   ]
  },
  {
   "cell_type": "code",
   "execution_count": 2,
   "metadata": {},
   "outputs": [
    {
     "name": "stdout",
     "output_type": "stream",
     "text": [
      "Help on TextIOWrapper object:\n",
      "\n",
      "class TextIOWrapper(_TextIOBase)\n",
      " |  Character and line based layer over a BufferedIOBase object, buffer.\n",
      " |  \n",
      " |  encoding gives the name of the encoding that the stream will be\n",
      " |  decoded or encoded with. It defaults to locale.getpreferredencoding(False).\n",
      " |  \n",
      " |  errors determines the strictness of encoding and decoding (see\n",
      " |  help(codecs.Codec) or the documentation for codecs.register) and\n",
      " |  defaults to \"strict\".\n",
      " |  \n",
      " |  newline controls how line endings are handled. It can be None, '',\n",
      " |  '\\n', '\\r', and '\\r\\n'.  It works as follows:\n",
      " |  \n",
      " |  * On input, if newline is None, universal newlines mode is\n",
      " |    enabled. Lines in the input can end in '\\n', '\\r', or '\\r\\n', and\n",
      " |    these are translated into '\\n' before being returned to the\n",
      " |    caller. If it is '', universal newline mode is enabled, but line\n",
      " |    endings are returned to the caller untranslated. If it has any of\n",
      " |    the other legal values, input lines are only terminated by the given\n",
      " |    string, and the line ending is returned to the caller untranslated.\n",
      " |  \n",
      " |  * On output, if newline is None, any '\\n' characters written are\n",
      " |    translated to the system default line separator, os.linesep. If\n",
      " |    newline is '' or '\\n', no translation takes place. If newline is any\n",
      " |    of the other legal values, any '\\n' characters written are translated\n",
      " |    to the given string.\n",
      " |  \n",
      " |  If line_buffering is True, a call to flush is implied when a call to\n",
      " |  write contains a newline character.\n",
      " |  \n",
      " |  Method resolution order:\n",
      " |      TextIOWrapper\n",
      " |      _TextIOBase\n",
      " |      _IOBase\n",
      " |      builtins.object\n",
      " |  \n",
      " |  Methods defined here:\n",
      " |  \n",
      " |  __getstate__(...)\n",
      " |  \n",
      " |  __init__(self, /, *args, **kwargs)\n",
      " |      Initialize self.  See help(type(self)) for accurate signature.\n",
      " |  \n",
      " |  __new__(*args, **kwargs) from builtins.type\n",
      " |      Create and return a new object.  See help(type) for accurate signature.\n",
      " |  \n",
      " |  __next__(self, /)\n",
      " |      Implement next(self).\n",
      " |  \n",
      " |  __repr__(self, /)\n",
      " |      Return repr(self).\n",
      " |  \n",
      " |  close(self, /)\n",
      " |      Flush and close the IO object.\n",
      " |      \n",
      " |      This method has no effect if the file is already closed.\n",
      " |  \n",
      " |  detach(self, /)\n",
      " |      Separate the underlying buffer from the TextIOBase and return it.\n",
      " |      \n",
      " |      After the underlying buffer has been detached, the TextIO is in an\n",
      " |      unusable state.\n",
      " |  \n",
      " |  fileno(self, /)\n",
      " |      Returns underlying file descriptor if one exists.\n",
      " |      \n",
      " |      OSError is raised if the IO object does not use a file descriptor.\n",
      " |  \n",
      " |  flush(self, /)\n",
      " |      Flush write buffers, if applicable.\n",
      " |      \n",
      " |      This is not implemented for read-only and non-blocking streams.\n",
      " |  \n",
      " |  isatty(self, /)\n",
      " |      Return whether this is an 'interactive' stream.\n",
      " |      \n",
      " |      Return False if it can't be determined.\n",
      " |  \n",
      " |  read(self, size=-1, /)\n",
      " |      Read at most n characters from stream.\n",
      " |      \n",
      " |      Read from underlying buffer until we have n characters or we hit EOF.\n",
      " |      If n is negative or omitted, read until EOF.\n",
      " |  \n",
      " |  readable(self, /)\n",
      " |      Return whether object was opened for reading.\n",
      " |      \n",
      " |      If False, read() will raise OSError.\n",
      " |  \n",
      " |  readline(self, size=-1, /)\n",
      " |      Read until newline or EOF.\n",
      " |      \n",
      " |      Returns an empty string if EOF is hit immediately.\n",
      " |  \n",
      " |  seek(self, cookie, whence=0, /)\n",
      " |      Change stream position.\n",
      " |      \n",
      " |      Change the stream position to the given byte offset. The offset is\n",
      " |      interpreted relative to the position indicated by whence.  Values\n",
      " |      for whence are:\n",
      " |      \n",
      " |      * 0 -- start of stream (the default); offset should be zero or positive\n",
      " |      * 1 -- current stream position; offset may be negative\n",
      " |      * 2 -- end of stream; offset is usually negative\n",
      " |      \n",
      " |      Return the new absolute position.\n",
      " |  \n",
      " |  seekable(self, /)\n",
      " |      Return whether object supports random access.\n",
      " |      \n",
      " |      If False, seek(), tell() and truncate() will raise OSError.\n",
      " |      This method may need to do a test seek().\n",
      " |  \n",
      " |  tell(self, /)\n",
      " |      Return current stream position.\n",
      " |  \n",
      " |  truncate(self, pos=None, /)\n",
      " |      Truncate file to size bytes.\n",
      " |      \n",
      " |      File pointer is left unchanged.  Size defaults to the current IO\n",
      " |      position as reported by tell().  Returns the new size.\n",
      " |  \n",
      " |  writable(self, /)\n",
      " |      Return whether object was opened for writing.\n",
      " |      \n",
      " |      If False, write() will raise OSError.\n",
      " |  \n",
      " |  write(self, text, /)\n",
      " |      Write string to stream.\n",
      " |      Returns the number of characters written (which is always equal to\n",
      " |      the length of the string).\n",
      " |  \n",
      " |  ----------------------------------------------------------------------\n",
      " |  Data descriptors defined here:\n",
      " |  \n",
      " |  buffer\n",
      " |  \n",
      " |  closed\n",
      " |  \n",
      " |  encoding\n",
      " |      Encoding of the text stream.\n",
      " |      \n",
      " |      Subclasses should override.\n",
      " |  \n",
      " |  errors\n",
      " |      The error setting of the decoder or encoder.\n",
      " |      \n",
      " |      Subclasses should override.\n",
      " |  \n",
      " |  line_buffering\n",
      " |  \n",
      " |  name\n",
      " |  \n",
      " |  newlines\n",
      " |      Line endings translated so far.\n",
      " |      \n",
      " |      Only line endings translated during reading are considered.\n",
      " |      \n",
      " |      Subclasses should override.\n",
      " |  \n",
      " |  ----------------------------------------------------------------------\n",
      " |  Methods inherited from _IOBase:\n",
      " |  \n",
      " |  __del__(...)\n",
      " |  \n",
      " |  __enter__(...)\n",
      " |  \n",
      " |  __exit__(...)\n",
      " |  \n",
      " |  __iter__(self, /)\n",
      " |      Implement iter(self).\n",
      " |  \n",
      " |  readlines(self, hint=-1, /)\n",
      " |      Return a list of lines from the stream.\n",
      " |      \n",
      " |      hint can be specified to control the number of lines read: no more\n",
      " |      lines will be read if the total size (in bytes/characters) of all\n",
      " |      lines so far exceeds hint.\n",
      " |  \n",
      " |  writelines(self, lines, /)\n",
      " |  \n",
      " |  ----------------------------------------------------------------------\n",
      " |  Data descriptors inherited from _IOBase:\n",
      " |  \n",
      " |  __dict__\n",
      "\n"
     ]
    }
   ],
   "source": [
    "help (file)"
   ]
  },
  {
   "cell_type": "markdown",
   "metadata": {},
   "source": [
    "### Read the lines of the file into a variable called `lines`\n",
    "\n",
    "Hint: use the documentation above to find the method that sounds most likely to do what you want."
   ]
  },
  {
   "cell_type": "code",
   "execution_count": 3,
   "metadata": {},
   "outputs": [],
   "source": [
    "lines = file.readlines()"
   ]
  },
  {
   "cell_type": "markdown",
   "metadata": {},
   "source": [
    "What type of object is `lines`?"
   ]
  },
  {
   "cell_type": "code",
   "execution_count": 4,
   "metadata": {},
   "outputs": [
    {
     "data": {
      "text/plain": [
       "list"
      ]
     },
     "execution_count": 4,
     "metadata": {},
     "output_type": "execute_result"
    }
   ],
   "source": [
    "type(lines)"
   ]
  },
  {
   "cell_type": "markdown",
   "metadata": {},
   "source": [
    "It should be a familiar type we learned about in class.\n",
    "\n",
    "### Display `lines` at the end of a cell in order to see its contents"
   ]
  },
  {
   "cell_type": "code",
   "execution_count": 5,
   "metadata": {},
   "outputs": [
    {
     "data": {
      "text/plain": [
       "['name,uni,github username\\n',\n",
       " 'W Henry Towbin,wht2016,whtowbin\\n',\n",
       " 'Shanice Bailey,stb2145,stb2145\\n',\n",
       " 'Miranda Cashman,mc4428,mcashman\\n',\n",
       " 'Andie Wenzheng Wang,ww2514,ww2514\\n',\n",
       " 'Lauren Moseley,lm3391,lauren-moseley\\n',\n",
       " 'Arianna Varuolo-Clarke,amv2185,amv10070\\n',\n",
       " 'Julian Spergel,jjs2268,jjspergel\\n',\n",
       " 'Kristina Okamoto,kko2117,kkokamot\\n',\n",
       " 'lorenzo polvani,lmp3,polvani\\n',\n",
       " 'Stephanie Stettz,sgs2171,stephaniestettz\\n',\n",
       " 'Roger Creel,rcc2167,rcameronc\\n',\n",
       " 'Daniel Bishop,dab2203,dbishop6213\\n',\n",
       " 'Janine Birnbaum,jab2443,JanineBirbaum18\\n',\n",
       " 'Qidan Wang,qw2267,QidanW21\\n',\n",
       " 'Yujia You,yy2865,wxAlpha\\n',\n",
       " 'Alice Wu,aw2561,awu65\\n',\n",
       " 'Emily Follansbee,erf2154,efollansbee\\n',\n",
       " 'Abby Lunstrum,aml2325,abby1uns\\n',\n",
       " 'Theresa Sawi,tsawi2193,tsawi\\n',\n",
       " 'Philip Harrison,pah2142,pah2142']"
      ]
     },
     "execution_count": 5,
     "metadata": {},
     "output_type": "execute_result"
    }
   ],
   "source": [
    "lines"
   ]
  },
  {
   "cell_type": "markdown",
   "metadata": {},
   "source": [
    "### Use slicing to display the first three items of the list. And the last 3"
   ]
  },
  {
   "cell_type": "code",
   "execution_count": 6,
   "metadata": {},
   "outputs": [
    {
     "data": {
      "text/plain": [
       "['name,uni,github username\\n',\n",
       " 'W Henry Towbin,wht2016,whtowbin\\n',\n",
       " 'Shanice Bailey,stb2145,stb2145\\n']"
      ]
     },
     "execution_count": 6,
     "metadata": {},
     "output_type": "execute_result"
    }
   ],
   "source": [
    "lines[0:3]"
   ]
  },
  {
   "cell_type": "code",
   "execution_count": 8,
   "metadata": {},
   "outputs": [
    {
     "data": {
      "text/plain": [
       "['Abby Lunstrum,aml2325,abby1uns\\n',\n",
       " 'Theresa Sawi,tsawi2193,tsawi\\n',\n",
       " 'Philip Harrison,pah2142,pah2142']"
      ]
     },
     "execution_count": 8,
     "metadata": {},
     "output_type": "execute_result"
    }
   ],
   "source": [
    "lines[-3:]"
   ]
  },
  {
   "cell_type": "markdown",
   "metadata": {},
   "source": [
    "### Create a new list called `data` that does not contain the header row"
   ]
  },
  {
   "cell_type": "code",
   "execution_count": 10,
   "metadata": {},
   "outputs": [
    {
     "data": {
      "text/plain": [
       "['W Henry Towbin,wht2016,whtowbin\\n',\n",
       " 'Shanice Bailey,stb2145,stb2145\\n',\n",
       " 'Miranda Cashman,mc4428,mcashman\\n',\n",
       " 'Andie Wenzheng Wang,ww2514,ww2514\\n',\n",
       " 'Lauren Moseley,lm3391,lauren-moseley\\n',\n",
       " 'Arianna Varuolo-Clarke,amv2185,amv10070\\n',\n",
       " 'Julian Spergel,jjs2268,jjspergel\\n',\n",
       " 'Kristina Okamoto,kko2117,kkokamot\\n',\n",
       " 'lorenzo polvani,lmp3,polvani\\n',\n",
       " 'Stephanie Stettz,sgs2171,stephaniestettz\\n',\n",
       " 'Roger Creel,rcc2167,rcameronc\\n',\n",
       " 'Daniel Bishop,dab2203,dbishop6213\\n',\n",
       " 'Janine Birnbaum,jab2443,JanineBirbaum18\\n',\n",
       " 'Qidan Wang,qw2267,QidanW21\\n',\n",
       " 'Yujia You,yy2865,wxAlpha\\n',\n",
       " 'Alice Wu,aw2561,awu65\\n',\n",
       " 'Emily Follansbee,erf2154,efollansbee\\n',\n",
       " 'Abby Lunstrum,aml2325,abby1uns\\n',\n",
       " 'Theresa Sawi,tsawi2193,tsawi\\n',\n",
       " 'Philip Harrison,pah2142,pah2142']"
      ]
     },
     "execution_count": 10,
     "metadata": {},
     "output_type": "execute_result"
    }
   ],
   "source": [
    "data = lines[1:]\n",
    "data"
   ]
  },
  {
   "cell_type": "markdown",
   "metadata": {},
   "source": [
    "### Now iterate through `lines` and `print` the item if it contains your uni"
   ]
  },
  {
   "cell_type": "code",
   "execution_count": 11,
   "metadata": {},
   "outputs": [
    {
     "name": "stdout",
     "output_type": "stream",
     "text": [
      "wht2016\n",
      "stb2145\n",
      "mc4428\n",
      "ww2514\n",
      "lm3391\n",
      "amv2185\n",
      "jjs2268\n",
      "kko2117\n",
      "lmp3\n",
      "sgs2171\n",
      "rcc2167\n",
      "dab2203\n",
      "jab2443\n",
      "qw2267\n",
      "yy2865\n",
      "aw2561\n",
      "erf2154\n",
      "aml2325\n",
      "tsawi2193\n",
      "pah2142\n"
     ]
    }
   ],
   "source": [
    "i = 0\n",
    "for i in data:\n",
    "    newline = i.split(',')\n",
    "    print(newline[1])"
   ]
  },
  {
   "cell_type": "markdown",
   "metadata": {},
   "source": [
    "By now you have figured out what is in this data. Let's now transform it into a more useful format.\n",
    "\n",
    "### Write code to transform the data into a dictionary whose keys are UNIs and whose values are full names.\n",
    "\n",
    "(You might need to review Python's [string methods](https://docs.python.org/3/library/stdtypes.html#textseq).)\n"
   ]
  },
  {
   "cell_type": "code",
   "execution_count": 13,
   "metadata": {},
   "outputs": [],
   "source": [
    "i = 0\n",
    "d ={}\n",
    "for i in data:\n",
    "    newline = i.split(',')\n",
    "    uni = newline[1]\n",
    "    name = newline[0]\n",
    "    d[uni] =  name"
   ]
  },
  {
   "cell_type": "markdown",
   "metadata": {},
   "source": [
    "### Use this dictionary to look up your own name using your uni"
   ]
  },
  {
   "cell_type": "code",
   "execution_count": 14,
   "metadata": {},
   "outputs": [
    {
     "data": {
      "text/plain": [
       "'Andie Wenzheng Wang'"
      ]
     },
     "execution_count": 14,
     "metadata": {},
     "output_type": "execute_result"
    }
   ],
   "source": [
    "d['ww2514']"
   ]
  },
  {
   "cell_type": "markdown",
   "metadata": {},
   "source": [
    "### Figure out who has the longest last name in the class"
   ]
  },
  {
   "cell_type": "code",
   "execution_count": 15,
   "metadata": {},
   "outputs": [
    {
     "name": "stdout",
     "output_type": "stream",
     "text": [
      "Arianna Varuolo-Clarke 14\n"
     ]
    }
   ],
   "source": [
    "i = 0\n",
    "d ={}\n",
    "max_length = 0\n",
    "max_name=''\n",
    "for i in data:\n",
    "    newline = i.split(',')\n",
    "    namecol = newline[0]\n",
    "    lastname = namecol.split(' ')\n",
    "    namelength= len(lastname[-1])\n",
    "    if namelength > max_length:\n",
    "        max_length = namelength\n",
    "        max_name = namecol\n",
    "print(max_name,max_length)        "
   ]
  },
  {
   "cell_type": "code",
   "execution_count": null,
   "metadata": {},
   "outputs": [],
   "source": []
  },
  {
   "cell_type": "code",
   "execution_count": null,
   "metadata": {},
   "outputs": [],
   "source": []
  },
  {
   "cell_type": "code",
   "execution_count": null,
   "metadata": {},
   "outputs": [],
   "source": []
  }
 ],
 "metadata": {
  "kernelspec": {
   "display_name": "Python [default]",
   "language": "python",
   "name": "python3"
  },
  "language_info": {
   "codemirror_mode": {
    "name": "ipython",
    "version": 3
   },
   "file_extension": ".py",
   "mimetype": "text/x-python",
   "name": "python",
   "nbconvert_exporter": "python",
   "pygments_lexer": "ipython3",
   "version": "3.6.3"
  }
 },
 "nbformat": 4,
 "nbformat_minor": 2
}
